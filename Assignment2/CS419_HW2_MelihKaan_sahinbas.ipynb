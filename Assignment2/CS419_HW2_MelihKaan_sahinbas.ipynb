{
  "cells": [
    {
      "cell_type": "code",
      "execution_count": null,
      "metadata": {
        "colab": {
          "base_uri": "https://localhost:8080/"
        },
        "id": "6kI_YgvIQI1M",
        "outputId": "69b068b8-67c0-4bc8-c718-3e5046e0c45b"
      },
      "outputs": [
        {
          "output_type": "stream",
          "name": "stdout",
          "text": [
            "--2024-10-30 11:43:40--  https://drive.google.com/uc?id=15ywep3yQV_hb5J1n4vVkS0nT5XdJhJ-B\n",
            "Resolving drive.google.com (drive.google.com)... 173.194.210.102, 173.194.210.139, 173.194.210.101, ...\n",
            "Connecting to drive.google.com (drive.google.com)|173.194.210.102|:443... connected.\n",
            "HTTP request sent, awaiting response... 303 See Other\n",
            "Location: https://drive.usercontent.google.com/download?id=15ywep3yQV_hb5J1n4vVkS0nT5XdJhJ-B [following]\n",
            "--2024-10-30 11:43:40--  https://drive.usercontent.google.com/download?id=15ywep3yQV_hb5J1n4vVkS0nT5XdJhJ-B\n",
            "Resolving drive.usercontent.google.com (drive.usercontent.google.com)... 74.125.141.132, 2607:f8b0:400c:c06::84\n",
            "Connecting to drive.usercontent.google.com (drive.usercontent.google.com)|74.125.141.132|:443... connected.\n",
            "HTTP request sent, awaiting response... 200 OK\n",
            "Length: 2136 (2.1K) [image/png]\n",
            "Saving to: ‘connectivity.png’\n",
            "\n",
            "connectivity.png    100%[===================>]   2.09K  --.-KB/s    in 0s      \n",
            "\n",
            "2024-10-30 11:43:42 (23.8 MB/s) - ‘connectivity.png’ saved [2136/2136]\n",
            "\n"
          ]
        }
      ],
      "source": [
        "# download the sample image\n",
        "!wget --no-check-certificate \\\n",
        "    https://drive.google.com/uc?id=15ywep3yQV_hb5J1n4vVkS0nT5XdJhJ-B -O connectivity.png"
      ]
    },
    {
      "cell_type": "code",
      "execution_count": null,
      "metadata": {
        "id": "QEzlrtiBQa_z"
      },
      "outputs": [],
      "source": [
        "import cv2\n",
        "import numpy as np\n",
        "from google.colab.patches import cv2_imshow\n",
        "%matplotlib inline\n",
        "from matplotlib import pyplot as plt"
      ]
    },
    {
      "cell_type": "code",
      "execution_count": null,
      "metadata": {
        "colab": {
          "base_uri": "https://localhost:8080/",
          "height": 534
        },
        "id": "1QQ0bfhoUJbq",
        "outputId": "c036f627-e920-4038-e4a7-ecf10410b3b9"
      },
      "outputs": [
        {
          "output_type": "display_data",
          "data": {
            "text/plain": [
              "<PIL.Image.Image image mode=L size=500x500>"
            ],
            "image/png": "[encoded data removed]",
            "image/jpeg": "[encoded data removed]"
          },
          "metadata": {}
        },
        {
          "output_type": "stream",
          "name": "stdout",
          "text": [
            "Image height= 500 px, and width= 500 px and data type: uint8\n"
          ]
        }
      ],
      "source": [
        "# load and display the sample image\n",
        "image = cv2.imread('connectivity.png', cv2.IMREAD_GRAYSCALE)\n",
        "cv2_imshow(image)\n",
        "\n",
        "height, width = image.shape\n",
        "print(\"Image height=\", height, \"px, and width=\", width, \"px and data type:\", image.dtype)"
      ]
    },
    {
      "cell_type": "markdown",
      "metadata": {
        "id": "WHSZMeRPXnU1"
      },
      "source": [
        "In this homework, your task is to implement the **two-pass algorithm** to label connected components in a binary image. The provided code includes a function that returns the output from OpenCV. You are expected to replace this OpenCV call with your own implementation. Additionally, I have included code to test and visualize the output. You should only implement the function below.\n",
        "\n",
        "**Note:**Please test your implementation with various images."
      ]
    },
    {
      "cell_type": "code",
      "execution_count": null,
      "metadata": {
        "id": "1kTh3ZVVQS7G"
      },
      "outputs": [],
      "source": [
        "def two_pass_connected_components(image, connectivity=4):\n",
        "  \"\"\"\n",
        "  Implement the two-pass algorithm for connected component extraction.\n",
        "\n",
        "  This function takes a binary image and extracts all the connected components based on given connectivity.\n",
        "\n",
        "  Parameters:\n",
        "  -----------\n",
        "  image : numpy.ndarray\n",
        "      A binary (grayscale) image where connected components will be labeled.\n",
        "      It should contain binary values (e.g., 0 for background and 1 for foreground).\n",
        "\n",
        "  connectivity : int, optional, default=4\n",
        "      Connectivity determines how neighbors are defined:\n",
        "      - connectivity=4: Considers only the four directly adjacent neighbors (top, bottom, left, right).\n",
        "      - connectivity=8: Considers all eight surrounding pixels.\n",
        "\n",
        "  Returns:\n",
        "  --------\n",
        "  num_labels : int\n",
        "      The total number of labels, including the background label (typically 0).\n",
        "\n",
        "  labels : numpy.ndarray\n",
        "      A labeled image where each connected component is marked with a unique integer label.\n",
        "      The background is labeled as 0.\n",
        "  \"\"\"\n",
        "  def find(x, parent):\n",
        "    \"\"\"\n",
        "    Find the root of the set containing x with path compression.\n",
        "\n",
        "    Parameters:\n",
        "    -----------\n",
        "    x : int\n",
        "        The label whose root we want to find.\n",
        "\n",
        "    parent : numpy.ndarray\n",
        "        An array where each index points to its \"parent\" label in the union-find structure.\n",
        "        If a label is its own parent, it is the root of that component.\n",
        "\n",
        "    Returns:\n",
        "    --------\n",
        "    int\n",
        "        The root label of the set containing x.\n",
        "    \"\"\"\n",
        "    if parent[x] != x:\n",
        "      parent[x] = find(parent[x], parent)\n",
        "    return parent[x]\n",
        "\n",
        "\n",
        "\n",
        "  def union(x, y, parent):\n",
        "    \"\"\"\n",
        "    Perform union of the sets containing x and y.\n",
        "\n",
        "    Parameters:\n",
        "    -----------\n",
        "    x : int\n",
        "        The label of the first set to be united.\n",
        "\n",
        "    y : int\n",
        "        The label of the second set to be united.\n",
        "\n",
        "    parent : numpy.ndarray\n",
        "        An array representing the union-find structure, where each index points to its parent.\n",
        "        This array will be updated to reflect the union operation.\n",
        "\n",
        "    Returns:\n",
        "    --------\n",
        "    None\n",
        "        This function modifies the parent array in place to merge the two sets.\n",
        "    \"\"\"\n",
        "    temp_x = x\n",
        "    temp_y = y\n",
        "\n",
        "    while parent[temp_x] != temp_x:\n",
        "      temp_x = parent[temp_x]\n",
        "    while parent[temp_y] != temp_y:\n",
        "      temp_y = parent[temp_y]\n",
        "\n",
        "    if temp_x != temp_y:\n",
        "      parent[temp_y] = temp_x\n",
        "\n",
        "\n",
        "  def initialize(max_lab):\n",
        "    \"\"\"\n",
        "    Initialize the label counter and parent array.\n",
        "\n",
        "    Parameters:\n",
        "    -----------\n",
        "    max_lab : int\n",
        "        The maximum number of labels that could be created (typically rows * cols / 2).\n",
        "\n",
        "    Returns:\n",
        "    --------\n",
        "    label : int\n",
        "        The initial label counter, starting from 1.\n",
        "\n",
        "    parent_arr : numpy.ndarray\n",
        "        An array of size max_lab, initialized so that each element points to itself,\n",
        "        supporting the union-find structure for connected component labeling.\n",
        "    \"\"\"\n",
        "    label = 0  # Start labeling from 1\n",
        "    parent_arr = np.arange(max_lab, dtype=int)  # Each label initially points to 0\n",
        "    return label, parent_arr\n",
        "\n",
        "  max_row, max_col = image.shape\n",
        "  max_lab = max_row * max_col // 2\n",
        "  label, parent_arr = initialize(max_lab=max_lab)\n",
        "\n",
        "  LB = np.zeros_like(image, dtype = int)\n",
        "  for row in range(max_row):\n",
        "    for col in range(max_col):\n",
        "      if image[row, col] == 255:\n",
        "        prior_neighbours = []\n",
        "\n",
        "        if row > 0 and LB[row - 1, col] > 0: # top\n",
        "          prior_neighbours.append(LB[row - 1, col])\n",
        "        if col > 0 and LB[row, col - 1] > 0 : # left\n",
        "          prior_neighbours.append(LB[row, col - 1])\n",
        "        if connectivity == 8:\n",
        "          if row > 0 and col > 0 and LB[row - 1, col - 1] > 0:\n",
        "            prior_neighbours.append(LB[row - 1, col - 1]) # top left\n",
        "          if row > 0 and col < max_col - 1 and LB[row - 1, col + 1] > 0: # top right\n",
        "            prior_neighbours.append(LB[row - 1, col + 1])\n",
        "\n",
        "        if prior_neighbours == []:\n",
        "          LB[row, col] = label\n",
        "          parent_arr[label] = label\n",
        "          label += 1\n",
        "        else:\n",
        "          #take minimum of the labels of neighbours\n",
        "          temp_label = min(prior_neighbours)\n",
        "          LB[row, col] = temp_label\n",
        "          for labels in prior_neighbours:\n",
        "            union(temp_label, labels, parent_arr)\n",
        "\n",
        "  # Pass 2 replaces Pass 1 labels with equivalance class labels\n",
        "  for row in range(max_row):\n",
        "    for col in range(max_col):\n",
        "      if image[row, col] == 255:\n",
        "        LB[row, col] = find(LB[row, col], parent_arr)\n",
        "\n",
        "  unique_labels = np.unique(LB)\n",
        "  label_mapping = {old_label: new_label for new_label, old_label in enumerate(unique_labels)}\n",
        "\n",
        "  # Apply the new label mapping to both LB and parent_arr\n",
        "  for old_label, new_label in label_mapping.items():\n",
        "      parent_arr[old_label] = new_label  # Update parent array with new ordered labels\n",
        "\n",
        "  for row in range(max_row):\n",
        "      for col in range(max_col):\n",
        "         if LB[row, col] > 0:\n",
        "            LB[row, col] = label_mapping[LB[row, col]]\n",
        "\n",
        "  num_labels = len(unique_labels)  # Number of unique labels\n",
        "  return num_labels, LB"
      ]
    },
    {
      "cell_type": "code",
      "execution_count": null,
      "metadata": {
        "id": "MHwoRZIHUTMT"
      },
      "outputs": [],
      "source": [
        "num_labels_4, labels_4 = two_pass_connected_components(image)\n",
        "output_image_4 = np.zeros((labels_4.shape[0], labels_4.shape[1], 3), dtype=np.uint8)\n",
        "\n",
        "num_labels_8, labels_8 = two_pass_connected_components(image, connectivity=8)\n",
        "output_image_8 = np.zeros((labels_8.shape[0], labels_8.shape[1], 3), dtype=np.uint8)\n",
        "\n",
        "colors_4 = np.random.randint(0, 255, size=(num_labels_4, 3))\n",
        "for label in range(1, num_labels_4):\n",
        "    output_image_4[labels_4 == label] = colors_4[label]\n",
        "\n",
        "\n",
        "colors_8 = np.random.randint(0, 255, size=(num_labels_8, 3))\n",
        "for label in range(1, num_labels_8):\n",
        "    output_image_8[labels_8 == label] = colors_8[label]"
      ]
    },
    {
      "cell_type": "code",
      "execution_count": null,
      "metadata": {
        "colab": {
          "base_uri": "https://localhost:8080/"
        },
        "id": "YknapDB5YSku",
        "outputId": "3d41ea68-6bb3-4abf-9ada-896e4c40158b"
      },
      "outputs": [
        {
          "output_type": "stream",
          "name": "stdout",
          "text": [
            "6\n",
            "4\n"
          ]
        }
      ],
      "source": [
        "print(num_labels_4)\n",
        "print(num_labels_8)"
      ]
    },
    {
      "cell_type": "code",
      "execution_count": null,
      "metadata": {
        "colab": {
          "base_uri": "https://localhost:8080/",
          "height": 528
        },
        "id": "mfhn5fXjUj6a",
        "outputId": "c6a7ced0-22fe-41ce-ac06-a103a20d886e"
      },
      "outputs": [
        {
          "output_type": "display_data",
          "data": {
            "text/plain": [
              "<Figure size 1500x500 with 3 Axes>"
            ],
            "image/png": "[encoded data removed]"
          },
          "metadata": {}
        }
      ],
      "source": [
        "fig, axes = plt.subplots(1, 3, figsize=(15, 5))\n",
        "\n",
        "axes[0].imshow(image, cmap='gray')\n",
        "axes[0].set_title('Original Image')\n",
        "axes[0].axis('off')\n",
        "\n",
        "axes[1].imshow(output_image_4, cmap='gray')\n",
        "axes[1].set_title(f\"4-connectivity ({num_labels_4 - 1} components)\")\n",
        "axes[1].axis('off')\n",
        "\n",
        "axes[2].imshow(output_image_8, cmap='gray')\n",
        "axes[2].set_title(f\"8-connectivity ({num_labels_8 - 1} components)\")\n",
        "axes[2].axis('off')\n",
        "\n",
        "\n",
        "plt.tight_layout()\n",
        "plt.show()"
      ]
    },
    {
      "cell_type": "code",
      "source": [],
      "metadata": {
        "id": "rQUQ0v6LfIgF"
      },
      "execution_count": null,
      "outputs": []
    }
  ],
  "metadata": {
    "colab": {
      "provenance": []
    },
    "kernelspec": {
      "display_name": "Python 3 (ipykernel)",
      "language": "python",
      "name": "python3"
    },
    "language_info": {
      "codemirror_mode": {
        "name": "ipython",
        "version": 3
      },
      "file_extension": ".py",
      "mimetype": "text/x-python",
      "name": "python",
      "nbconvert_exporter": "python",
      "pygments_lexer": "ipython3",
      "version": "3.12.3"
    }
  },
  "nbformat": 4,
  "nbformat_minor": 0
}